{
 "cells": [
  {
   "cell_type": "code",
   "execution_count": 18,
   "id": "074e0532",
   "metadata": {},
   "outputs": [],
   "source": [
    "import pandas as pd\n",
    "import sqlite3\n",
    "import csv "
   ]
  },
  {
   "cell_type": "code",
   "execution_count": 19,
   "id": "ef6f704f",
   "metadata": {},
   "outputs": [],
   "source": [
    "# Error handling\n",
    "try: \n",
    "    # Connect to the database\n",
    "    conn = sqlite3.connect(\"transfermarkt.db\")\n",
    "    cursonr = conn.cursor()\n",
    "except sqlite3.Error as e:\n",
    "    # If problem\n",
    "    print(\"Error connecting to the database\", e)"
   ]
  },
  {
   "cell_type": "code",
   "execution_count": 22,
   "id": "fe9a8cbf",
   "metadata": {},
   "outputs": [],
   "source": [
    "try:\n",
    "    # Reading CSVs into a dataframe\n",
    "    game_events = pd.read_csv(r\"C:\\Users\\nickp\\Python Projects\\euro_data\\game_events.csv\")\n",
    "    # Transfering the dataframe into SQLite table\n",
    "    game_events.to_sql(\n",
    "            'game_events', #name of sqltable\n",
    "            conn, # sqlite.connection or sqlalchemy.engine.Engine\n",
    "            if_exists='replace')\n",
    "    \n",
    "    # Reading CSVs into a dataframe\n",
    "    games = pd.read_csv(r\"C:\\Users\\nickp\\Python Projects\\euro_data\\games.csv\")\n",
    "    # Transfering the dataframe into SQLite table\n",
    "    games.to_sql(\n",
    "            'games', #name of sqltable\n",
    "            conn, # sqlite.connection or sqlalchemy.engine.Engine\n",
    "            if_exists='replace')\n",
    "    \n",
    "    # Reading CSVs into a dataframe\n",
    "    player_valuations = pd.read_csv(r\"C:\\Users\\nickp\\Python Projects\\euro_data\\player_valuations.csv\")\n",
    "    player_valuations.to_sql(\n",
    "            'player_valuations', #name of sqltable\n",
    "            conn, # sqlite.connection or sqlalchemy.engine.Engine\n",
    "            if_exists='replace')\n",
    "    \n",
    "    # Reading CSVs into a dataframe\n",
    "    players = pd.read_csv(r\"C:\\Users\\nickp\\Python Projects\\euro_data\\players.csv\")\n",
    "    players.to_sql(\n",
    "            'players', #name of sqltable\n",
    "            conn, # sqlite.connection or sqlalchemy.engine.Engine\n",
    "            if_exists='replace')\n",
    "    \n",
    "    # Reading CSVs into a dataframe\n",
    "    competitions = pd.read_csv(r\"C:\\Users\\nickp\\Python Projects\\euro_data\\competitions.csv\")\n",
    "    competitions.to_sql(\n",
    "            'competitions', #name of sqltable\n",
    "            conn, # sqlite.connection or sqlalchemy.engine.Engine\n",
    "            if_exists='replace')\n",
    "    \n",
    "    # Reading CSVs into a dataframe\n",
    "    clubs = pd.read_csv(r\"C:\\Users\\nickp\\Python Projects\\euro_data\\clubs.csv\")\n",
    "    clubs.to_sql(\n",
    "            'clubs', #name of sqltable\n",
    "            conn, # sqlite.connection or sqlalchemy.engine.Engine\n",
    "            if_exists='replace')\n",
    "    \n",
    "    # Reading CSVs into a dataframe\n",
    "    club_games = pd.read_csv(r\"C:\\Users\\nickp\\Python Projects\\euro_data\\club_games.csv\")\n",
    "    club_games.to_sql(\n",
    "            'club_games', # name of sqltable\n",
    "            conn, # sqlite.connection or sqlalchemy.engine.Engine\n",
    "            if_exists='replace')\n",
    "    \n",
    "    # Reading CSVs into a dataframe\n",
    "    appearances = pd.read_csv(r\"C:\\Users\\nickp\\Python Projects\\euro_data\\appearances.csv\")\n",
    "    appearances.to_sql(\n",
    "            'appearances', # name of sqltable\n",
    "            conn, # sqlite.connection or sqlalchemy.engine.Engine\n",
    "            if_exists='replace')\n",
    "    \n",
    "    conn.commit()\n",
    "\n",
    "except sqlite3.Error as e:\n",
    "     # If Problem\n",
    "     print(\"Error creating table:\", e)\n",
    "    \n",
    "conn.close()"
   ]
  },
  {
   "cell_type": "code",
   "execution_count": 54,
   "id": "e431eb28",
   "metadata": {},
   "outputs": [
    {
     "data": {
      "text/plain": [
       "[(2211607,), (2218677,), (2219794,), (2219795,), (2221641,)]"
      ]
     },
     "execution_count": 54,
     "metadata": {},
     "output_type": "execute_result"
    }
   ],
   "source": [
    "cursor = conn.cursor()\n",
    "cursor.execute(\"\"\"SELECT DISTINCT GAME_ID \n",
    "                  FROM game_events\n",
    "                  LIMIT 5\"\"\")\n",
    "cursor.fetchall()"
   ]
  },
  {
   "cell_type": "code",
   "execution_count": 16,
   "id": "7693d820",
   "metadata": {},
   "outputs": [
    {
     "ename": "NameError",
     "evalue": "name 'cursor' is not defined",
     "output_type": "error",
     "traceback": [
      "\u001b[1;31m----------------------------------------------------------------\u001b[0m",
      "\u001b[1;31mNameError\u001b[0m                      Traceback (most recent call last)",
      "Cell \u001b[1;32mIn[16], line 1\u001b[0m\n\u001b[1;32m----> 1\u001b[0m \u001b[43mcursor\u001b[49m\u001b[38;5;241m.\u001b[39mfetchall()\n",
      "\u001b[1;31mNameError\u001b[0m: name 'cursor' is not defined"
     ]
    }
   ],
   "source": [
    "cursor.fetchall()"
   ]
  },
  {
   "cell_type": "code",
   "execution_count": 56,
   "id": "c2cb6852",
   "metadata": {},
   "outputs": [
    {
     "data": {
      "text/plain": [
       "[('appearances',),\n",
       " ('club_games',),\n",
       " ('clubs',),\n",
       " ('competitions',),\n",
       " ('game_events',),\n",
       " ('games',),\n",
       " ('player_valuations',),\n",
       " ('players',)]"
      ]
     },
     "execution_count": 56,
     "metadata": {},
     "output_type": "execute_result"
    }
   ],
   "source": [
    "# Looking at total sql database\n",
    "cursor.execute(\"\"\"\n",
    "                SELECT name\n",
    "                FROM sqlite_master\n",
    "                WHERE type='table'\n",
    "                ORDER BY 1\n",
    "                \"\"\")\n",
    "\n",
    "\n",
    "cursor.fetchall()"
   ]
  },
  {
   "cell_type": "code",
   "execution_count": 39,
   "id": "0996c264",
   "metadata": {},
   "outputs": [],
   "source": [
    "# Now that I have succesfully \n",
    "# Created a SQLite table from a CSV\n",
    "# I would like to create a function \n",
    "# That reads all of the CSVs in the folder\n",
    "# And converts them into SQLite tables"
   ]
  },
  {
   "cell_type": "code",
   "execution_count": null,
   "id": "c246a1db",
   "metadata": {},
   "outputs": [],
   "source": []
  }
 ],
 "metadata": {
  "kernelspec": {
   "display_name": "Python 3 (ipykernel)",
   "language": "python",
   "name": "python3"
  },
  "language_info": {
   "codemirror_mode": {
    "name": "ipython",
    "version": 3
   },
   "file_extension": ".py",
   "mimetype": "text/x-python",
   "name": "python",
   "nbconvert_exporter": "python",
   "pygments_lexer": "ipython3",
   "version": "3.11.3"
  }
 },
 "nbformat": 4,
 "nbformat_minor": 5
}
