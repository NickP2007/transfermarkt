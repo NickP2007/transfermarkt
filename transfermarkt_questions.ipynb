{
 "cells": [
  {
   "cell_type": "code",
   "execution_count": 2,
   "id": "c77f9e49",
   "metadata": {},
   "outputs": [],
   "source": [
    "import pandas as pd\n",
    "import sqlite3\n",
    "import sqlalchemy"
   ]
  },
  {
   "cell_type": "code",
   "execution_count": 3,
   "id": "191c05b6",
   "metadata": {},
   "outputs": [],
   "source": [
    "# Error handling\n",
    "try: \n",
    "    # Connect to the database\n",
    "    conn = sqlite3.connect(\"transfermarkt.db\")\n",
    "    cursonr = conn.cursor()\n",
    "except sqlite3.Error as e:\n",
    "    # If problem\n",
    "    print(\"Error connecting to the database\", e)"
   ]
  },
  {
   "cell_type": "code",
   "execution_count": 4,
   "id": "fa012685",
   "metadata": {},
   "outputs": [],
   "source": [
    "cursor = conn.cursor()"
   ]
  },
  {
   "cell_type": "code",
   "execution_count": 4,
   "id": "0d1ea6c4",
   "metadata": {},
   "outputs": [
    {
     "name": "stdout",
     "output_type": "stream",
     "text": [
      "How many players are in the database?\n"
     ]
    },
    {
     "data": {
      "text/plain": [
       "[(29455,)]"
      ]
     },
     "execution_count": 4,
     "metadata": {},
     "output_type": "execute_result"
    }
   ],
   "source": [
    "print('How many players are in the database?')\n",
    "cursor.execute(\"\"\"\n",
    "SELECT COUNT(DISTINCT player_id) [PLAYERS]\n",
    "FROM PLAYERS\n",
    "\"\"\")\n",
    "cursor.fetchall()"
   ]
  },
  {
   "cell_type": "code",
   "execution_count": 5,
   "id": "a9251248",
   "metadata": {},
   "outputs": [
    {
     "name": "stdout",
     "output_type": "stream",
     "text": [
      "How many players have an appearance are in the database?\n"
     ]
    },
    {
     "data": {
      "text/plain": [
       "[(19076,)]"
      ]
     },
     "execution_count": 5,
     "metadata": {},
     "output_type": "execute_result"
    }
   ],
   "source": [
    "print('How many players with an appearance are in the database?')\n",
    "cursor.execute(\"\"\"\n",
    "SELECT COUNT(DISTINCT player_id) [PLAYERS]\n",
    "FROM APPEARANCES\n",
    "\"\"\")\n",
    "cursor.fetchall()"
   ]
  },
  {
   "cell_type": "code",
   "execution_count": 6,
   "id": "19b56707",
   "metadata": {},
   "outputs": [
    {
     "name": "stdout",
     "output_type": "stream",
     "text": [
      "How many players have at least more than 1 appearance?\n"
     ]
    },
    {
     "data": {
      "text/plain": [
       "[(17568,)]"
      ]
     },
     "execution_count": 6,
     "metadata": {},
     "output_type": "execute_result"
    }
   ],
   "source": [
    "print('How many players have at least more than 1 appearance?')\n",
    "cursor.execute(\"\"\"\n",
    "WITH TWO_OR_MORE AS (\n",
    "    SELECT PLAYER_ID\n",
    "        ,COUNT(DISTINCT APPEARANCE_ID) [APPS]\n",
    "    FROM APPEARANCES \n",
    "    GROUP BY PLAYER_ID \n",
    "    HAVING COUNT(DISTINCT APPEARANCE_ID) > 1\n",
    ")\n",
    "SELECT COUNT(DISTINCT PLAYER_ID) [PLAYERS W >1 APP]\n",
    "FROM TWO_OR_MORE\n",
    "\"\"\")\n",
    "cursor.fetchall()"
   ]
  },
  {
   "cell_type": "code",
   "execution_count": 44,
   "id": "99ab0419",
   "metadata": {},
   "outputs": [
    {
     "name": "stdout",
     "output_type": "stream",
     "text": [
      "What is the maximum number of appearances possible?\n"
     ]
    },
    {
     "data": {
      "text/plain": [
       "[(427,)]"
      ]
     },
     "execution_count": 44,
     "metadata": {},
     "output_type": "execute_result"
    }
   ],
   "source": [
    "print('What is the maximum number of appearances possible?')\n",
    "cursor.execute(\"\"\"\n",
    "WITH APPS_PER AS (\n",
    "    SELECT a.PLAYER_ID\n",
    "        ,COUNT(DISTINCT a.APPEARANCE_ID) [APPS]\n",
    "    FROM APPEARANCES a\n",
    "    GROUP BY a.PLAYER_ID \n",
    ")\n",
    "SELECT MAX(ap.APPS)\n",
    "FROM APPS_PER ap\n",
    "\"\"\")\n",
    "cursor.fetchall()"
   ]
  },
  {
   "cell_type": "code",
   "execution_count": 8,
   "id": "fd3b1c17",
   "metadata": {},
   "outputs": [
    {
     "name": "stdout",
     "output_type": "stream",
     "text": [
      "Group number of players by number of appearances\n"
     ]
    },
    {
     "data": {
      "text/plain": [
       "[('1-100', 15074),\n",
       " ('101-200', 2864),\n",
       " ('201-300', 922),\n",
       " ('301-400', 210),\n",
       " ('400+', 6)]"
      ]
     },
     "execution_count": 8,
     "metadata": {},
     "output_type": "execute_result"
    }
   ],
   "source": [
    "print('Group number of players by number of appearances')\n",
    "cursor.execute(\"\"\"\n",
    "WITH APPS_PER AS (\n",
    "    SELECT a.PLAYER_ID\n",
    "        ,COUNT(DISTINCT a.APPEARANCE_ID) [APPS] \n",
    "    FROM APPEARANCES a \n",
    "    GROUP BY a.PLAYER_ID \n",
    ")\n",
    "SELECT CASE \n",
    "        WHEN ap.[APPS] BETWEEN 1 AND 100 THEN '1-100'\n",
    "        WHEN ap.[APPS] BETWEEN 101 AND 200 THEN '101-200'\n",
    "        WHEN ap.[APPS] BETWEEN 201 AND 300 THEN '201-300'\n",
    "        WHEN ap.[APPS] BETWEEN 301 AND 400 THEN '301-400'\n",
    "        WHEN ap.[APPS] > 400 THEN '400+'\n",
    "        ELSE NULL END [APPS]\n",
    "    ,COUNT(DISTINCT ap.PLAYER_ID) [PLAYERS]\n",
    "FROM APPS_PER ap \n",
    "GROUP BY 1\n",
    "\"\"\")\n",
    "cursor.fetchall()"
   ]
  },
  {
   "cell_type": "code",
   "execution_count": 8,
   "id": "1a343383",
   "metadata": {},
   "outputs": [
    {
     "name": "stdout",
     "output_type": "stream",
     "text": [
      "How far back do records go? What is the recency of the data?\n"
     ]
    },
    {
     "data": {
      "text/html": [
       "<div>\n",
       "<style scoped>\n",
       "    .dataframe tbody tr th:only-of-type {\n",
       "        vertical-align: middle;\n",
       "    }\n",
       "\n",
       "    .dataframe tbody tr th {\n",
       "        vertical-align: top;\n",
       "    }\n",
       "\n",
       "    .dataframe thead th {\n",
       "        text-align: right;\n",
       "    }\n",
       "</style>\n",
       "<table border=\"1\" class=\"dataframe\">\n",
       "  <thead>\n",
       "    <tr style=\"text-align: right;\">\n",
       "      <th></th>\n",
       "      <th>OLDEST APPEARANCE</th>\n",
       "      <th>LATEST APPEARANCE</th>\n",
       "    </tr>\n",
       "  </thead>\n",
       "  <tbody>\n",
       "    <tr>\n",
       "      <th>0</th>\n",
       "      <td>2014-07-01</td>\n",
       "      <td>2023-06-11</td>\n",
       "    </tr>\n",
       "    <tr>\n",
       "      <th>1</th>\n",
       "      <td>2003-12-09</td>\n",
       "      <td>2023-12-19</td>\n",
       "    </tr>\n",
       "  </tbody>\n",
       "</table>\n",
       "</div>"
      ],
      "text/plain": [
       "  OLDEST APPEARANCE LATEST APPEARANCE\n",
       "0        2014-07-01        2023-06-11\n",
       "1        2003-12-09        2023-12-19"
      ]
     },
     "execution_count": 8,
     "metadata": {},
     "output_type": "execute_result"
    }
   ],
   "source": [
    "print('How far back do records go? What is the recency of the data?')\n",
    "query = \"\"\"\n",
    "    SELECT MIN(a.DATE) [OLDEST APPEARANCE]\n",
    "        ,MAX(a.DATE) [LATEST APPEARANCE]\n",
    "    FROM APPEARANCES a\n",
    "    UNION ALL \n",
    "    SELECT MIN(p.DATE) [OLDEST VALUAION]\n",
    "        ,MAX(p.DATE) [LATEST VALUAION]\n",
    "    FROM PLAYER_VALUATIONS p\n",
    "    ;\n",
    "\"\"\"\n",
    "#cursor.fetchall()\n",
    "df = pd.read_sql(query,conn)\n",
    "df.head()\n",
    "\n",
    "# appearances go back only 10 years\n",
    "# valuations go back 20 years"
   ]
  },
  {
   "cell_type": "code",
   "execution_count": 13,
   "id": "07524b17",
   "metadata": {},
   "outputs": [
    {
     "name": "stdout",
     "output_type": "stream",
     "text": [
      "How many games have been played? What is the oldest date for a game?\n"
     ]
    },
    {
     "data": {
      "text/plain": [
       "[(62379, '2012-07-03')]"
      ]
     },
     "execution_count": 13,
     "metadata": {},
     "output_type": "execute_result"
    }
   ],
   "source": [
    "print('How many games have been played? What is the oldest date for a game?')\n",
    "cursor.execute(\"\"\"\n",
    "    SELECT COUNT(DISTINCT g.GAME_ID) [TOTAL GAMES]\n",
    "        ,MIN(g.DATE) [OLDEST DATE]\n",
    "    FROM GAMES g\n",
    "\"\"\")\n",
    "cursor.fetchall()\n"
   ]
  },
  {
   "cell_type": "code",
   "execution_count": 20,
   "id": "e2b2bae5",
   "metadata": {},
   "outputs": [
    {
     "name": "stdout",
     "output_type": "stream",
     "text": [
      "How many clubs are in the database? How many clubs with their last recorded season in 2023\n"
     ]
    },
    {
     "data": {
      "text/plain": [
       "[(2012, 8, 0),\n",
       " (2013, 11, 0),\n",
       " (2014, 13, 0),\n",
       " (2015, 13, 0),\n",
       " (2016, 17, 0),\n",
       " (2017, 18, 0),\n",
       " (2018, 17, 0),\n",
       " (2019, 13, 0),\n",
       " (2020, 21, 0),\n",
       " (2021, 21, 0),\n",
       " (2022, 36, 0),\n",
       " (2023, 238, 238)]"
      ]
     },
     "execution_count": 20,
     "metadata": {},
     "output_type": "execute_result"
    }
   ],
   "source": [
    "print('How many clubs are in the database? How many clubs with their last recorded season in 2023')\n",
    "cursor.execute(\"\"\"\n",
    "    SELECT c.LAST_SEASON\n",
    "        ,COUNT(DISTINCT c.CLUB_ID) [TOTAL CLUBS]\n",
    "        ,COUNT(DISTINCT CASE WHEN c.LAST_SEASON = 2023 THEN c.CLUB_ID ELSE NULL END) [2023 CLUBS]\n",
    "    FROM CLUBS c\n",
    "    GROUP BY 1\n",
    "    ORDER BY 1\n",
    "\"\"\")\n",
    "cursor.fetchall()\n"
   ]
  },
  {
   "cell_type": "code",
   "execution_count": 40,
   "id": "d5c316f9",
   "metadata": {},
   "outputs": [
    {
     "name": "stdout",
     "output_type": "stream",
     "text": [
      "How many leagues are in the database? How many domestic cups? How many domestic super cups? How many international cups? How many world cups? How many countries are represented?\n"
     ]
    },
    {
     "data": {
      "text/plain": [
       "[(14, 11, 10, 5, 15)]"
      ]
     },
     "execution_count": 40,
     "metadata": {},
     "output_type": "execute_result"
    }
   ],
   "source": [
    "print('How many leagues are in the database? How many domestic cups? How many domestic super cups? How many international cups? How many countries are represented?')\n",
    "cursor.execute(\"\"\"\n",
    "    SELECT COUNT(DISTINCT CASE WHEN l.TYPE = 'domestic_league' AND l.COUNTRY_NAME IS NOT NULL THEN l.COMPETITION_ID ELSE NULL END) [DOMSTIC LEAGUES]\n",
    "        ,COUNT(DISTINCT CASE WHEN l.TYPE = 'domestic_cup' AND l.COUNTRY_NAME IS NOT NULL THEN l.COMPETITION_ID ELSE NULL END) [DOMSTIC CUPS]\n",
    "        ,COUNT(DISTINCT CASE WHEN l.SUB_TYPE = 'domestic_super_cup' AND l.COUNTRY_NAME IS NOT NULL THEN l.COMPETITION_ID ELSE NULL END) [DOMSTIC SUPER CUPS]\n",
    "        ,SUM(CASE WHEN l.TYPE = 'international_cup' AND l.NAME NOT LIKE '%QUALIFYING%' THEN 1 ELSE 0 END) [DOMSTIC SUPER CUPS]\n",
    "        ,COUNT(DISTINCT COUNTRY_ID) [COUNTRIES]\n",
    "        --l.SUB_TYPE\n",
    "        --,COUNT(DISTINCT l.COMPETITION_ID)\n",
    "    FROM COMPETITIONS l\n",
    "    --GROUP BY 1\n",
    "\"\"\")\n",
    "cursor.fetchall()\n",
    "\n",
    "# no lower league data included in data\n",
    "# no countries outside of europe included\n",
    "# club world cup is included as well | competition_id = 'KLUB'"
   ]
  },
  {
   "cell_type": "code",
   "execution_count": 41,
   "id": "7be721c0",
   "metadata": {},
   "outputs": [
    {
     "name": "stdout",
     "output_type": "stream",
     "text": [
      "When is the oldest/latest game for each domestic league?\n"
     ]
    },
    {
     "data": {
      "text/plain": [
       "[('bundesliga', '2012-08-24', '2023-05-27'),\n",
       " ('eredivisie', '2012-08-10', '2023-05-28'),\n",
       " ('jupiler-pro-league', '2012-07-28', '2023-04-23'),\n",
       " ('laliga', '2012-08-18', '2023-06-04'),\n",
       " ('liga-portugal-bwin', '2012-08-17', '2023-05-27'),\n",
       " ('ligue-1', '2012-08-10', '2023-06-03'),\n",
       " ('premier-league', '2012-08-18', '2023-05-28'),\n",
       " ('premier-liga', '2012-07-13', '2023-07-23'),\n",
       " ('scottish-premiership', '2012-08-04', '2023-04-23'),\n",
       " ('serie-a', '2012-08-25', '2023-06-04'),\n",
       " ('super-league-1', '2012-08-25', '2023-03-12'),\n",
       " ('super-lig', '2012-08-17', '2023-06-07'),\n",
       " ('superligaen', '2012-07-13', '2023-07-24')]"
      ]
     },
     "execution_count": 41,
     "metadata": {},
     "output_type": "execute_result"
    }
   ],
   "source": [
    "print('When is the oldest/latest game for each domestic league?')\n",
    "cursor.execute(\"\"\"\n",
    "    SELECT c.NAME\n",
    "        ,MIN(g.DATE) [EARLIEST]\n",
    "        ,MAX(g.DATE) [LATEST]\n",
    "    FROM COMPETITIONS c\n",
    "    INNER JOIN GAMES g\n",
    "    ON c.COMPETITION_ID = g.COMPETITION_ID\n",
    "    WHERE c.TYPE = 'domestic_league'\n",
    "    GROUP BY c.NAME\n",
    "\"\"\")\n",
    "cursor.fetchall()"
   ]
  },
  {
   "cell_type": "code",
   "execution_count": null,
   "id": "40ddadf8",
   "metadata": {},
   "outputs": [],
   "source": [
    "print('Goals by year/decade, has play gotten more exciting/physical?')\n",
    "cursor.execute(\"\"\"\n",
    "    \n",
    "\"\"\")\n",
    "cursor.fetchall()"
   ]
  },
  {
   "cell_type": "code",
   "execution_count": 9,
   "id": "bb494f66",
   "metadata": {},
   "outputs": [
    {
     "name": "stdout",
     "output_type": "stream",
     "text": [
      "When do most goals come in first tier play in England?\n"
     ]
    },
    {
     "data": {
      "text/plain": [
       "[('81-90', 1889, 0.1645),\n",
       " ('71-80', 1255, 0.1093),\n",
       " ('61-70', 1329, 0.1157),\n",
       " ('51-60', 1295, 0.1128),\n",
       " ('41-50', 1466, 0.1277),\n",
       " ('31-40', 1125, 0.098),\n",
       " ('21-30', 1102, 0.096),\n",
       " ('11-20', 1081, 0.0941),\n",
       " ('1-10', 941, 0.0819),\n",
       " (None, 0, 0.0)]"
      ]
     },
     "execution_count": 9,
     "metadata": {},
     "output_type": "execute_result"
    }
   ],
   "source": [
    "print('When do most goals come in first tier play in England?')\n",
    "cursor.execute(\"\"\"\n",
    "    SELECT CASE \n",
    "            WHEN ge.MINUTE BETWEEN 1 AND 10 THEN '1-10'\n",
    "            WHEN ge.MINUTE BETWEEN 11 AND 20 THEN '11-20'\n",
    "            WHEN ge.MINUTE BETWEEN 21 AND 30 THEN '21-30'\n",
    "            --WHEN ge.MINUTE BETWEEN 31 AND 39 THEN '31-39'\n",
    "            WHEN ge.MINUTE BETWEEN 31 AND 40 THEN '31-40'\n",
    "            WHEN ge.MINUTE BETWEEN 41 AND 50 THEN '41-50'\n",
    "            --WHEN ge.MINUTE BETWEEN 40 AND 45 THEN '40-45'\n",
    "            --WHEN ge.MINUTE BETWEEN 46 AND 51 THEN '46-51'\n",
    "            WHEN ge.MINUTE BETWEEN 51 AND 60 THEN '51-60'\n",
    "            WHEN ge.MINUTE BETWEEN 61 AND 70 THEN '61-70'\n",
    "            WHEN ge.MINUTE BETWEEN 71 AND 80 THEN '71-80'\n",
    "            WHEN ge.MINUTE BETWEEN 81 AND 90 THEN '81-90'\n",
    "            ELSE NULL END [SECTION]\n",
    "            ,COUNT(ge.TYPE) [GOALS]\n",
    "            --11483 GOALS IN ENGLAND PREM LEAGUE\n",
    "            --120161 IN ALL FIRST TIER LEAGUES\n",
    "            ,ROUND(1.0 * COUNT(ge.TYPE) / \n",
    "                NULLIF((SELECT COUNT(ge.TYPE) \n",
    "                        FROM COMPETITIONS c \n",
    "                        INNER JOIN GAMES g \n",
    "                        ON c.COMPETITION_ID = g.COMPETITION_ID \n",
    "                        LEFT JOIN GAME_EVENTS ge \n",
    "                        ON g.GAME_ID = ge.GAME_ID \n",
    "                            AND ge.TYPE = 'Goals' \n",
    "                            WHERE c.TYPE = 'domestic_league'\n",
    "                            AND c.COUNTRY_NAME = 'England'),0),4) [%]\n",
    "    FROM COMPETITIONS c\n",
    "    INNER JOIN GAMES g\n",
    "    ON c.COMPETITION_ID = g.COMPETITION_ID\n",
    "    LEFT JOIN GAME_EVENTS ge\n",
    "    ON g.GAME_ID = ge.GAME_ID\n",
    "    AND ge.TYPE = 'Goals'\n",
    "    WHERE c.TYPE = 'domestic_league'\n",
    "    AND c.COUNTRY_NAME = 'England'\n",
    "    GROUP BY 1\n",
    "    ORDER BY 1 DESC\n",
    "\"\"\")\n",
    "cursor.fetchall()\n",
    "\n",
    "\n",
    "# WHEN ge.MINUTE BETWEEN 31-40 THEN '31-40'\n",
    "# WHEN ge.MINUTE BETWEEN 41-50 THEN '41-50'"
   ]
  },
  {
   "cell_type": "code",
   "execution_count": 26,
   "id": "c09cc8f7",
   "metadata": {},
   "outputs": [
    {
     "data": {
      "text/html": [
       "<div>\n",
       "<style scoped>\n",
       "    .dataframe tbody tr th:only-of-type {\n",
       "        vertical-align: middle;\n",
       "    }\n",
       "\n",
       "    .dataframe tbody tr th {\n",
       "        vertical-align: top;\n",
       "    }\n",
       "\n",
       "    .dataframe thead th {\n",
       "        text-align: right;\n",
       "    }\n",
       "</style>\n",
       "<table border=\"1\" class=\"dataframe\">\n",
       "  <thead>\n",
       "    <tr style=\"text-align: right;\">\n",
       "      <th></th>\n",
       "      <th>index</th>\n",
       "      <th>game_id</th>\n",
       "      <th>competition_id</th>\n",
       "      <th>season</th>\n",
       "      <th>round</th>\n",
       "      <th>date</th>\n",
       "      <th>home_club_id</th>\n",
       "      <th>away_club_id</th>\n",
       "      <th>home_club_goals</th>\n",
       "      <th>away_club_goals</th>\n",
       "      <th>...</th>\n",
       "      <th>home_club_manager_name</th>\n",
       "      <th>away_club_manager_name</th>\n",
       "      <th>stadium</th>\n",
       "      <th>attendance</th>\n",
       "      <th>referee</th>\n",
       "      <th>url</th>\n",
       "      <th>home_club_name</th>\n",
       "      <th>away_club_name</th>\n",
       "      <th>aggregate</th>\n",
       "      <th>competition_type</th>\n",
       "    </tr>\n",
       "  </thead>\n",
       "  <tbody>\n",
       "    <tr>\n",
       "      <th>0</th>\n",
       "      <td>0</td>\n",
       "      <td>2222539</td>\n",
       "      <td>L1</td>\n",
       "      <td>2012</td>\n",
       "      <td>1. Matchday</td>\n",
       "      <td>2012-08-25</td>\n",
       "      <td>60</td>\n",
       "      <td>39</td>\n",
       "      <td>1</td>\n",
       "      <td>1</td>\n",
       "      <td>...</td>\n",
       "      <td>Christian Streich</td>\n",
       "      <td>Thomas Tuchel</td>\n",
       "      <td>Dreisamstadion</td>\n",
       "      <td>22500.0</td>\n",
       "      <td>Deniz Aytekin</td>\n",
       "      <td>https://www.transfermarkt.co.uk/sc-freiburg_1-...</td>\n",
       "      <td>SC Freiburg</td>\n",
       "      <td>1.FSV Mainz 05</td>\n",
       "      <td>1:1</td>\n",
       "      <td>domestic_league</td>\n",
       "    </tr>\n",
       "    <tr>\n",
       "      <th>1</th>\n",
       "      <td>1</td>\n",
       "      <td>2222541</td>\n",
       "      <td>L1</td>\n",
       "      <td>2012</td>\n",
       "      <td>1. Matchday</td>\n",
       "      <td>2012-08-25</td>\n",
       "      <td>41</td>\n",
       "      <td>4</td>\n",
       "      <td>0</td>\n",
       "      <td>1</td>\n",
       "      <td>...</td>\n",
       "      <td>Thorsten Fink</td>\n",
       "      <td>Dieter Hecking</td>\n",
       "      <td>Volksparkstadion</td>\n",
       "      <td>50123.0</td>\n",
       "      <td>Marco Fritz</td>\n",
       "      <td>https://www.transfermarkt.co.uk/hamburger-sv_1...</td>\n",
       "      <td>Hamburger SV</td>\n",
       "      <td>1.FC Nuremberg</td>\n",
       "      <td>0:1</td>\n",
       "      <td>domestic_league</td>\n",
       "    </tr>\n",
       "    <tr>\n",
       "      <th>2</th>\n",
       "      <td>2</td>\n",
       "      <td>2222542</td>\n",
       "      <td>L1</td>\n",
       "      <td>2012</td>\n",
       "      <td>1. Matchday</td>\n",
       "      <td>2012-08-25</td>\n",
       "      <td>24</td>\n",
       "      <td>15</td>\n",
       "      <td>2</td>\n",
       "      <td>1</td>\n",
       "      <td>...</td>\n",
       "      <td>Armin Veh</td>\n",
       "      <td>Sascha Lewandowski</td>\n",
       "      <td>Commerzbank Arena</td>\n",
       "      <td>27950.0</td>\n",
       "      <td>Thorsten Kinhöfer</td>\n",
       "      <td>https://www.transfermarkt.co.uk/eintracht-fran...</td>\n",
       "      <td>Eintracht Frankfurt</td>\n",
       "      <td>Bayer 04 Leverkusen</td>\n",
       "      <td>2:1</td>\n",
       "      <td>domestic_league</td>\n",
       "    </tr>\n",
       "    <tr>\n",
       "      <th>3</th>\n",
       "      <td>3</td>\n",
       "      <td>2222595</td>\n",
       "      <td>RU1</td>\n",
       "      <td>2012</td>\n",
       "      <td>3. Matchday</td>\n",
       "      <td>2012-08-05</td>\n",
       "      <td>2700</td>\n",
       "      <td>4128</td>\n",
       "      <td>1</td>\n",
       "      <td>0</td>\n",
       "      <td>...</td>\n",
       "      <td>Guus Hiddink</td>\n",
       "      <td>Rustem Khuzin</td>\n",
       "      <td>Dinamo</td>\n",
       "      <td>14000.0</td>\n",
       "      <td>Vladislav Bezborodov</td>\n",
       "      <td>https://www.transfermarkt.co.uk/anzhi-makhachk...</td>\n",
       "      <td>Anzhi Makhachkala ( -2022)</td>\n",
       "      <td>Amkar Perm</td>\n",
       "      <td>1:0</td>\n",
       "      <td>domestic_league</td>\n",
       "    </tr>\n",
       "    <tr>\n",
       "      <th>4</th>\n",
       "      <td>4</td>\n",
       "      <td>2222636</td>\n",
       "      <td>RU1</td>\n",
       "      <td>2012</td>\n",
       "      <td>4. Matchday</td>\n",
       "      <td>2012-08-12</td>\n",
       "      <td>1083</td>\n",
       "      <td>2696</td>\n",
       "      <td>1</td>\n",
       "      <td>2</td>\n",
       "      <td>...</td>\n",
       "      <td>Miodrag Bozovic</td>\n",
       "      <td>Andrey Kobelev</td>\n",
       "      <td>Olimp-2</td>\n",
       "      <td>6800.0</td>\n",
       "      <td>Vitali Meshkov</td>\n",
       "      <td>https://www.transfermarkt.co.uk/fk-rostov_kryl...</td>\n",
       "      <td>FK Rostov</td>\n",
       "      <td>Krylya Sovetov Samara</td>\n",
       "      <td>1:2</td>\n",
       "      <td>domestic_league</td>\n",
       "    </tr>\n",
       "  </tbody>\n",
       "</table>\n",
       "<p>5 rows × 22 columns</p>\n",
       "</div>"
      ],
      "text/plain": [
       "   index  game_id competition_id  season        round        date   \n",
       "0      0  2222539             L1    2012  1. Matchday  2012-08-25  \\\n",
       "1      1  2222541             L1    2012  1. Matchday  2012-08-25   \n",
       "2      2  2222542             L1    2012  1. Matchday  2012-08-25   \n",
       "3      3  2222595            RU1    2012  3. Matchday  2012-08-05   \n",
       "4      4  2222636            RU1    2012  4. Matchday  2012-08-12   \n",
       "\n",
       "   home_club_id  away_club_id  home_club_goals  away_club_goals  ...   \n",
       "0            60            39                1                1  ...  \\\n",
       "1            41             4                0                1  ...   \n",
       "2            24            15                2                1  ...   \n",
       "3          2700          4128                1                0  ...   \n",
       "4          1083          2696                1                2  ...   \n",
       "\n",
       "   home_club_manager_name  away_club_manager_name            stadium   \n",
       "0       Christian Streich           Thomas Tuchel     Dreisamstadion  \\\n",
       "1           Thorsten Fink          Dieter Hecking   Volksparkstadion   \n",
       "2               Armin Veh      Sascha Lewandowski  Commerzbank Arena   \n",
       "3            Guus Hiddink           Rustem Khuzin             Dinamo   \n",
       "4         Miodrag Bozovic          Andrey Kobelev            Olimp-2   \n",
       "\n",
       "  attendance               referee   \n",
       "0    22500.0         Deniz Aytekin  \\\n",
       "1    50123.0           Marco Fritz   \n",
       "2    27950.0     Thorsten Kinhöfer   \n",
       "3    14000.0  Vladislav Bezborodov   \n",
       "4     6800.0        Vitali Meshkov   \n",
       "\n",
       "                                                 url   \n",
       "0  https://www.transfermarkt.co.uk/sc-freiburg_1-...  \\\n",
       "1  https://www.transfermarkt.co.uk/hamburger-sv_1...   \n",
       "2  https://www.transfermarkt.co.uk/eintracht-fran...   \n",
       "3  https://www.transfermarkt.co.uk/anzhi-makhachk...   \n",
       "4  https://www.transfermarkt.co.uk/fk-rostov_kryl...   \n",
       "\n",
       "               home_club_name         away_club_name aggregate   \n",
       "0                 SC Freiburg         1.FSV Mainz 05       1:1  \\\n",
       "1                Hamburger SV         1.FC Nuremberg       0:1   \n",
       "2         Eintracht Frankfurt    Bayer 04 Leverkusen       2:1   \n",
       "3  Anzhi Makhachkala ( -2022)             Amkar Perm       1:0   \n",
       "4                   FK Rostov  Krylya Sovetov Samara       1:2   \n",
       "\n",
       "  competition_type  \n",
       "0  domestic_league  \n",
       "1  domestic_league  \n",
       "2  domestic_league  \n",
       "3  domestic_league  \n",
       "4  domestic_league  \n",
       "\n",
       "[5 rows x 22 columns]"
      ]
     },
     "execution_count": 26,
     "metadata": {},
     "output_type": "execute_result"
    }
   ],
   "source": [
    "query = \"\"\"\n",
    "    SELECT ge.GAME_ID\n",
    "        ,COUNT(DISTINCT CASE WHEN )\n",
    "    FROM GAMES ge\n",
    "    LEFT JOIN APPEARANCES a \n",
    "    ON ge.GAME_ID = a.GAME_ID\n",
    "    LIMIT 100\n",
    ";\n",
    "\"\"\"\n",
    "\n",
    "df = pd.read_sql(query,conn)\n",
    "df.head()"
   ]
  },
  {
   "cell_type": "code",
   "execution_count": null,
   "id": "e54e039d",
   "metadata": {},
   "outputs": [],
   "source": [
    "\n",
    "\n",
    "# What countries produce the most transfer market value? \n",
    "# Vizualize transfer value by country\n",
    "\n",
    "\n",
    "# Do yellow cards impact value?\n",
    "# Do yellow cards impact games?\n",
    "# What about red cards?\n",
    "\n",
    "# Is value tied to age? \n",
    "# Bucket it into percentages\n"
   ]
  },
  {
   "cell_type": "code",
   "execution_count": null,
   "id": "fad5e350",
   "metadata": {},
   "outputs": [],
   "source": []
  },
  {
   "cell_type": "code",
   "execution_count": null,
   "id": "36ab8342",
   "metadata": {},
   "outputs": [],
   "source": []
  }
 ],
 "metadata": {
  "kernelspec": {
   "display_name": "Python 3 (ipykernel)",
   "language": "python",
   "name": "python3"
  },
  "language_info": {
   "codemirror_mode": {
    "name": "ipython",
    "version": 3
   },
   "file_extension": ".py",
   "mimetype": "text/x-python",
   "name": "python",
   "nbconvert_exporter": "python",
   "pygments_lexer": "ipython3",
   "version": "3.11.3"
  }
 },
 "nbformat": 4,
 "nbformat_minor": 5
}
